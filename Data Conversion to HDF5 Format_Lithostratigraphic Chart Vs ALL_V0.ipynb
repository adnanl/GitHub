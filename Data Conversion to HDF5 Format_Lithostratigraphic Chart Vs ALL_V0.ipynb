{
 "cells": [
  {
   "cell_type": "markdown",
   "metadata": {},
   "source": [
    "# Data Conversion to HDF5 Format : Lithostratigraphic Chart Vs ALL"
   ]
  },
  {
   "cell_type": "markdown",
   "metadata": {},
   "source": [
    "Author:Adnan Latif, adnanl@ifi.uio.no"
   ]
  },
  {
   "cell_type": "markdown",
   "metadata": {},
   "source": [
    "1. Prerequests \n",
    "    - Copy all files in on folder, convert png or TIF to JPEG, assign unique identifire as prefix to each class"
   ]
  },
  {
   "cell_type": "markdown",
   "metadata": {},
   "source": [
    "2. List images and their labels\n",
    "    - List all images, give them proper labels, and then shuffle the data. \n",
    "    - Lithostrigrphic chart a label = 0 and each rest of the iamage a label = 1. \n",
    "    - Split data into train (%60), validation (%20), and test parts (%20)"
   ]
  },
  {
   "cell_type": "code",
   "execution_count": 1,
   "metadata": {},
   "outputs": [],
   "source": [
    "from random import shuffle\n",
    "from math import ceil\n",
    "import matplotlib.pyplot as plt\n",
    "import numpy as np\n",
    "import glob\n",
    "import h5py\n",
    "import cv2"
   ]
  },
  {
   "cell_type": "code",
   "execution_count": 2,
   "metadata": {},
   "outputs": [],
   "source": [
    "shuffle_data = True                                         # Shuffle the addresses before saving\n",
    "hdf5_path = 'AllGeoImages/dataset_for_lithochart_vs_all_Other_Classes_V0.hdf5'  # Address to where to save the hdf5 file\n",
    "litho_vs_other_train_path = 'AllGeoImages/*.jpeg'\n",
    "\n",
    "                                                            # Read addresses and labels from the 'AllGeoImages' folder\n",
    "addrs = glob.glob(litho_vs_other_train_path)\n",
    "labels = [0 if 'litho_' in addr else 1 for addr in addrs]   # 0= Lithostratigraphic Chart, 1 = Others\n",
    "\n",
    "# Shuffle data\n",
    "if shuffle_data:\n",
    "        c = list(zip(addrs, labels))\n",
    "        shuffle(c)\n",
    "        addrs, labels = zip(*c)\n",
    "    \n",
    "                                                            # Divide data into 60% train, 20% validation, and 20% test\n",
    "train_addrs = addrs[0:int(0.8*len(addrs))] # 0.6 for 60% train, 20% validation, and 20% test\n",
    "train_labels = labels[0:int(0.8*len(labels))]\n",
    "\n",
    "#val_addrs = addrs[int(0.6*len(addrs)):int(0.8*len(addrs))]\n",
    "#val_labels = labels[int(0.6*len(addrs)):int(0.8*len(addrs))]\n",
    "\n",
    "test_addrs = addrs[int(0.8*len(addrs)):]\n",
    "test_labels = labels[int(0.8*len(labels)):]\n",
    "\n"
   ]
  },
  {
   "cell_type": "code",
   "execution_count": 3,
   "metadata": {},
   "outputs": [
    {
     "name": "stdout",
     "output_type": "stream",
     "text": [
      "(1, 1, 1, 1, 1, 1, 1, 0, 1, 0, 1, 0, 1, 1, 1, 1, 1, 1, 0, 1, 0, 1, 1, 1, 1, 1, 1, 1, 1, 1, 1, 1, 1, 1, 0, 1, 0, 1, 1, 1, 1, 0, 1, 0, 0, 1, 1, 1, 0, 1, 1, 1, 1, 1, 1, 0, 1)\n",
      "('AllGeoImages/paleomap_Paleogeographic maps Western Canada Foreland Basin 8.jpeg', 'AllGeoImages/geomapwithprop_4.Depth of the Dunlin Gp.jpeg', 'AllGeoImages/geomapwithprop_42.Top of Utsira Formation.jpeg', 'AllGeoImages/geomapwithprop_Thickness map of Quaternary in the Barents Sea.jpeg', 'AllGeoImages/geomap_10.Structure and Geological mape.jpeg', 'AllGeoImages/geomapwithprop_39.Modelling of CO2 injection and migration in the Stord basin.jpeg', 'AllGeoImages/geomapwithprop_5.Thickness of the Cook Fm.jpeg', 'AllGeoImages/litho_LithoChart_8.Carpentaria Basin.jpeg', 'AllGeoImages/geomapwithprop_3.Net to Gross Nordmela Formation.jpeg', 'AllGeoImages/litho_LithoChart_7.Money Shoal Basin Stratigraphic Correlation Chart.jpeg', 'AllGeoImages/paleomap_Kaskaskia IV -Middle - Early Carboniferous.jpeg', 'AllGeoImages/litho_LithoChart_5.Stratigraphic column for the Lower congo Basin.jpeg', 'AllGeoImages/paleomap_EarlyTertiary.jpeg', 'AllGeoImages/geomapwithprop_3.vp vs and resistivity model.jpeg', 'AllGeoImages/paleomap_LateSilurian.jpeg', 'AllGeoImages/paleomap_Tippecanoe III-Late Silurian.jpeg', 'AllGeoImages/cross_Cross_1.Cross_section North Barent Sea.jpeg', 'AllGeoImages/geomapwithprop_5.Depth converted depicting the main synrift mapes.jpeg', 'AllGeoImages/litho_LithoChart_15.Regional lithostratigraphic chart.jpeg', 'AllGeoImages/paleomap_Plate tectonics and lithofacies - Late Zuni II.jpeg', 'AllGeoImages/litho_LithoChart_Stratigraphic column, Barents Sea.jpeg', 'AllGeoImages/geomap_19.Geological mape .jpeg', 'AllGeoImages/cross_Cross_2.HC plays in Barent Sea.jpeg', 'AllGeoImages/paleomap_Paleogeographic maps Western Canada Foreland Basin 2.jpeg', 'AllGeoImages/cross_Cross_3.North sea cross section.jpeg', 'AllGeoImages/cross_Cross_7.North sea cross section.jpeg', 'AllGeoImages/geomapwithprop_4. Permeability Tubåen Formation.jpeg', 'AllGeoImages/geomapwithprop_5PREDI~1.jpeg', 'AllGeoImages/geomapwithprop_13.Thickness of the Krossfjord Fm.jpeg', 'AllGeoImages/geomapwithprop_30.Depth to the Boknfjord Gp.jpeg', 'AllGeoImages/geomapwithprop_6.Depth of the Johansen Fm.jpeg', 'AllGeoImages/geomap_15.Geological mape.jpeg', 'AllGeoImages/geomapwithprop_2.Depth of the Statfjord Fm.jpeg', 'AllGeoImages/paleomap_Early Zuni II - Middle Jurassic - Late Jurassic.jpeg', 'AllGeoImages/litho_LithoChart_Northern Norwegian Sea.jpeg', 'AllGeoImages/cross_Cross_5.Cross section Getic province Romania.jpeg', 'AllGeoImages/litho_LithoChart_3.Northern Perth Basin Stratigraphy.jpeg', 'AllGeoImages/paleomap_Paleogeographic maps Western Canada Foreland Basin 4.jpeg', 'AllGeoImages/paleomap_Sediments thickness 4 Norwegian Sea.jpeg', 'AllGeoImages/geomapwithprop_5.inverted resistivity from gradient  arry.jpeg', 'AllGeoImages/geomapwithprop_16.Thickness of the Gassum Fm.jpeg', 'AllGeoImages/litho_LithoChart_19 .Regional stratigraphic correlation panel Greenland-svalbard and Barent Sea.jpeg', 'AllGeoImages/cross_Cross_2.Cross_section south kara Basin.jpeg', 'AllGeoImages/litho_LithoChart_1.Stratigraphic and Basin Event Chart of the Otway Basin.jpeg', 'AllGeoImages/litho_LithoChart_13. Stratigraphic chart of Sverdrup Basin showing range of Permian Chert Event.jpeg', 'AllGeoImages/paleomap_Paleogeographic map4Norwegian Sea.jpeg', 'AllGeoImages/geomapwithprop_11.Structure of Top of k8 reservoir South Tibalier .jpeg', 'AllGeoImages/paleomap_Plate tectonics and lithofacies - Late Tejas III.jpeg', 'AllGeoImages/litho_LithoChart_2.Lithostartigraphy of Norwegian Sea.jpeg', 'AllGeoImages/geomapwithprop_18.Depth to mid Jurassic show diffrent formation and faults.jpeg', 'AllGeoImages/geomapwithprop_9.S wave seismic reflection with net tip resistance estimated from s wave.jpeg', 'AllGeoImages/cross_Cross_2.North sea cross section.jpeg', 'AllGeoImages/geomapwithprop_46.Top of the Sognefjord delta aquifer.jpeg', 'AllGeoImages/geomapwithprop_Thickness map of Quaternary sediments .jpeg', 'AllGeoImages/geomapwithprop_43.The Bryne and Sandnes aquifer.jpeg', 'AllGeoImages/litho_LithoChart_11.Stratigraphic column of the Nile Delta, Egypt.jpeg', 'AllGeoImages/paleomap_Early Zuni III - latest Late Jurassic - earliest Early Cretaceous.jpeg')\n"
     ]
    }
   ],
   "source": [
    "print (test_labels) # Label number 8 is O, shuffled data, only have 0 and 1\n",
    "print (test_addrs) \n"
   ]
  },
  {
   "cell_type": "markdown",
   "metadata": {},
   "source": [
    "3. Create a HDF5 file (h5py only, not Tables)\n",
    "\n",
    "    Create a HDF5 file\n",
    "    - To store images,define an array for each of train, validation and test sets with the shape of (number of data, image_height, image_width, image_depth) in Tensorflow order or (number of data,image_width, image_depth,image_height) in Theano order. \n",
    "    - For labels, define array for each of train, validation and test sets with the shape of (number of data). \n",
    "    - calculate the pixel-wise mean of the train set and save it in an array with the shape of (1, image_height, image_width, image_depth)"
   ]
  },
  {
   "cell_type": "code",
   "execution_count": 4,
   "metadata": {},
   "outputs": [],
   "source": [
    "data_order = 'tf'                             # 'th' for Theano, 'tf' for Tensorflow (diffrent order of data)\n",
    "\n",
    "if data_order == 'th':\n",
    "    train_shape = (len(train_addrs), 3, 64, 64) # previously was 224\n",
    "    #val_shape = (len(val_addrs), 3, 64, 64) # if have valudataion set\n",
    "    test_shape = (len(test_addrs), 3, 64, 64)\n",
    "elif data_order == 'tf':\n",
    "    train_shape = (len(train_addrs), 64, 64, 3)\n",
    "    #val_shape = (len(val_addrs), 64, 64, 3) # if have valudataion set\n",
    "    test_shape = (len(test_addrs), 64, 64, 3)\n",
    "    \n",
    "                                                # open a hdf5 file and create earrays\n",
    "hdf5_file = h5py.File(hdf5_path, mode='w')\n",
    "hdf5_file.create_dataset(\"train_img\", train_shape, np.int8)\n",
    "#hdf5_file.create_dataset(\"val_img\", val_shape, np.int8)                # if have valudataion set\n",
    "hdf5_file.create_dataset(\"test_img\", test_shape, np.int8)\n",
    "hdf5_file.create_dataset(\"train_mean\", train_shape[1:], np.float32)\n",
    "hdf5_file.create_dataset(\"train_labels\", (len(train_addrs),), np.int8)\n",
    "hdf5_file[\"train_labels\"][...] = train_labels\n",
    "# hdf5_file.create_dataset(\"val_labels\", (len(val_addrs),), np.int8)\n",
    "#hdf5_file[\"val_labels\"][...] = val_labels                                # if have valudataion set\n",
    "hdf5_file.create_dataset(\"test_labels\", (len(test_addrs),), np.int8)\n",
    "hdf5_file[\"test_labels\"][...] = test_labels"
   ]
  },
  {
   "cell_type": "markdown",
   "metadata": {},
   "source": [
    "4. PREPROCESSING (only resize to 64 , 64) # priviously was 224"
   ]
  },
  {
   "cell_type": "code",
   "execution_count": 5,
   "metadata": {},
   "outputs": [],
   "source": [
    "                                                        # 1. A numpy array to save the mean of the images\n",
    "mean = np.zeros(train_shape[1:], np.float32)\n",
    "                                                        # 2. loop over train addresses\n",
    "for i in range(len(train_addrs)):\n",
    "                                                        # read an image and resize to (64, 64)\n",
    "                                                        # cv2 load images as BGR, convert it to RGB\n",
    "    addr = train_addrs[i]\n",
    "    img = cv2.imread(addr)\n",
    "    img = cv2.resize(img, (64, 64), interpolation=cv2.INTER_CUBIC)\n",
    "    img = cv2.cvtColor(img, cv2.COLOR_BGR2RGB)\n",
    "                                                        # any additional image pre-processing here\n",
    "                                                        # if the data order is Theano, axis orders should change\n",
    "    if data_order == 'th':\n",
    "        img = np.rollaxis(img, 2)\n",
    "                                                        # save the image and calculate the mean so far\n",
    "    hdf5_file[\"train_img\"][i, ...] = img[None]\n",
    "    mean += img / float(len(train_labels))\n",
    "                                                        # loop over validation addresses\n",
    "#for i in range(len(val_addrs)):\n",
    "    \n",
    "                                                        # read an image and resize to (64, 64)\n",
    "                                                        # cv2 load images as BGR, convert it to RGB\n",
    "   # addr = val_addrs[i]\n",
    "   # img = cv2.imread(addr)\n",
    "    #img = cv2.resize(img, (64, 64), interpolation=cv2.INTER_CUBIC)\n",
    "   # img = cv2.cvtColor(img, cv2.COLOR_BGR2RGB)\n",
    "                                                        # any additional image pre-processing here\n",
    "                                                        # if the data order is Theano, axis orders should change\n",
    "   # if data_order == 'th':\n",
    "        #img = np.rollaxis(img, 2)\n",
    "                                                        # save the image\n",
    "    #hdf5_file[\"val_img\"][i, ...] = img[None]\n",
    "                                                        # loop over test addresses\n",
    "for i in range(len(test_addrs)):\n",
    "    \n",
    "                                                        # read an image and resize to (64, 64)\n",
    "                                                        # cv2 load images as BGR, convert it to RGB\n",
    "    addr = test_addrs[i]\n",
    "    img = cv2.imread(addr)\n",
    "    img = cv2.resize(img, (64, 64), interpolation=cv2.INTER_CUBIC)\n",
    "    img = cv2.cvtColor(img, cv2.COLOR_BGR2RGB)\n",
    "                                                        # add any image pre-processing here\n",
    "                                                        # if the data order is Theano, axis orders should change\n",
    "    if data_order == 'th':\n",
    "        img = np.rollaxis(img, 2)\n",
    "                                                        # save the image\n",
    "    hdf5_file[\"test_img\"][i, ...] = img[None]\n",
    "                                                        # save the mean and close the hdf5 file\n",
    "hdf5_file[\"train_mean\"][...] = mean\n",
    "hdf5_file.close()"
   ]
  },
  {
   "cell_type": "markdown",
   "metadata": {},
   "source": [
    "5. Read the HDF5 file\n",
    "\n",
    "    Check if the data is saved properly in the HDF5 file\n",
    "    - Load the data in batchs of an arbitrary size and plot the first image of the first 5 batchs\n",
    "    - Check the label of each image\n",
    " "
   ]
  },
  {
   "cell_type": "code",
   "execution_count": 6,
   "metadata": {},
   "outputs": [
    {
     "name": "stdout",
     "output_type": "stream",
     "text": [
      "1 / 15\n",
      "1 [1. 1. 1. 1. 1. 1. 1. 1. 1. 1. 1. 1. 1. 1. 1. 1.]\n"
     ]
    },
    {
     "data": {
      "image/png": "[encoded data removed]",
      "text/plain": [
       "<Figure size 432x288 with 1 Axes>"
      ]
     },
     "metadata": {
      "needs_background": "light"
     },
     "output_type": "display_data"
    },
    {
     "name": "stdout",
     "output_type": "stream",
     "text": [
      "2 / 15\n",
      "1 [1. 1. 1. 1. 1. 1. 1. 1. 1. 1. 1. 1. 1. 1. 1. 1.]\n"
     ]
    },
    {
     "data": {
      "image/png": "[encoded data removed]",
      "text/plain": [
       "<Figure size 432x288 with 1 Axes>"
      ]
     },
     "metadata": {
      "needs_background": "light"
     },
     "output_type": "display_data"
    },
    {
     "name": "stdout",
     "output_type": "stream",
     "text": [
      "3 / 15\n",
      "1 [1. 1. 1. 1. 1. 1. 1. 1. 1. 1. 1. 1. 1. 1. 1. 1.]\n"
     ]
    },
    {
     "data": {
      "image/png": "[encoded data removed]",
      "text/plain": [
       "<Figure size 432x288 with 1 Axes>"
      ]
     },
     "metadata": {
      "needs_background": "light"
     },
     "output_type": "display_data"
    },
    {
     "name": "stdout",
     "output_type": "stream",
     "text": [
      "4 / 15\n",
      "1 [1. 1. 1. 1. 1. 1. 1. 1. 1. 1. 1. 1. 1. 1. 1. 1.]\n"
     ]
    },
    {
     "data": {
      "image/png": "[encoded data removed]",
      "text/plain": [
       "<Figure size 432x288 with 1 Axes>"
      ]
     },
     "metadata": {
      "needs_background": "light"
     },
     "output_type": "display_data"
    },
    {
     "name": "stdout",
     "output_type": "stream",
     "text": [
      "5 / 15\n",
      "1 [1. 1. 1. 1. 1. 1. 1. 1. 1. 1. 1. 1. 1. 1. 1. 1.]\n"
     ]
    },
    {
     "data": {
      "image/png": "[encoded data removed]",
      "text/plain": [
       "<Figure size 432x288 with 1 Axes>"
      ]
     },
     "metadata": {
      "needs_background": "light"
     },
     "output_type": "display_data"
    },
    {
     "name": "stdout",
     "output_type": "stream",
     "text": [
      "6 / 15\n",
      "0 [1. 1. 1. 1. 1. 1. 1. 1. 1. 1. 1. 1. 1. 1. 1. 1.]\n"
     ]
    },
    {
     "data": {
      "image/png": "[encoded data removed]",
      "text/plain": [
       "<Figure size 432x288 with 1 Axes>"
      ]
     },
     "metadata": {
      "needs_background": "light"
     },
     "output_type": "display_data"
    }
   ],
   "source": [
    "subtract_mean = False\n",
    "                                                        # open the hdf5 file\n",
    "hdf5_file = h5py.File(hdf5_path, \"r\")\n",
    "                                                        # subtract the training mean\n",
    "if subtract_mean:\n",
    "    mm = hdf5_file[\"train_mean\"][0, ...]\n",
    "    mm = mm[np.newaxis, ...]\n",
    "                                                        # Total number of samples\n",
    "data_num = hdf5_file[\"train_img\"].shape[0]\n",
    "batch_size = 16                                         # select batch size, 32, 64 ....\n",
    "\n",
    "                                                        # create list of batches to shuffle the data\n",
    "batches_list = list(range(int(ceil(float(data_num) / batch_size))))\n",
    "shuffle(batches_list)\n",
    "                                                        # loop over batches\n",
    "for n, i in enumerate(batches_list):\n",
    "    i_s = i * batch_size                                # index of the first image in this batch\n",
    "    i_e = min([(i + 1) * batch_size, data_num])         # index of the last image in this batch\n",
    "                                                        # read batch images and remove training mean\n",
    "    images = hdf5_file[\"train_img\"][i_s:i_e, ...]\n",
    "    if subtract_mean:\n",
    "        images -= mm\n",
    "    \n",
    "                                                        # read labels and convert to one hot encoding\n",
    "    labels = hdf5_file[\"train_labels\"][i_s:i_e]\n",
    "    labels_one_hot = np.zeros(batch_size, np.float32)\n",
    "    labels_one_hot[np.arange(batch_size)] = 1\n",
    "    print (n+1, '/', len(batches_list))\n",
    "    print (labels[0], labels_one_hot[:])\n",
    "    plt.imshow(images[0])\n",
    "    plt.show()\n",
    "    if n == 5:                                           # break after 5 batches\n",
    "        break\n",
    "hdf5_file.close()"
   ]
  },
  {
   "cell_type": "code",
   "execution_count": null,
   "metadata": {},
   "outputs": [],
   "source": []
  }
 ],
 "metadata": {
  "kernelspec": {
   "display_name": "Python 3",
   "language": "python",
   "name": "python3"
  },
  "language_info": {
   "codemirror_mode": {
    "name": "ipython",
    "version": 3
   },
   "file_extension": ".py",
   "mimetype": "text/x-python",
   "name": "python",
   "nbconvert_exporter": "python",
   "pygments_lexer": "ipython3",
   "version": "3.6.8"
  }
 },
 "nbformat": 4,
 "nbformat_minor": 2
}
